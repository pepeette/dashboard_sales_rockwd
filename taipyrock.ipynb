{
 "cells": [
  {
   "cell_type": "code",
   "execution_count": 1,
   "id": "4d91a008-fcc7-432b-9bcb-bacde08f1c60",
   "metadata": {},
   "outputs": [],
   "source": [
    "# !pip install taipy\n",
    "# !pip install python-airtable"
   ]
  },
  {
   "cell_type": "code",
   "execution_count": 2,
   "id": "43d202df-c17b-4593-b894-beeaf9bf9f82",
   "metadata": {},
   "outputs": [],
   "source": [
    "from taipy import Gui\n",
    "import requests\n",
    "import pandas as pd\n",
    "import datetime\n",
    "import numpy as np\n",
    "import random\n",
    "from datetime import datetime\n",
    "from datetime import timedelta\n",
    "from airtable import Airtable\n",
    "import os\n",
    "import re"
   ]
  },
  {
   "cell_type": "markdown",
   "id": "e88e5655-9a5c-41a0-b1b8-85e9a64b8fcf",
   "metadata": {},
   "source": [
    "#### Airtable - fetch data"
   ]
  },
  {
   "cell_type": "code",
   "execution_count": 3,
   "id": "64ede0d4-d1e5-4a7b-9bd1-505e37aedab9",
   "metadata": {},
   "outputs": [],
   "source": [
    "api_key = 'patngX23FWWWnl2iH.e5c8bc51522c7d6db26f4668e80775aa7f344107ec6a1204a5b388427a6e1da7'\n",
    "base_id = 'appfjmrH6l5m4Z82K'\n",
    "table_name_mapping = {\n",
    "    'tblM34kdan10sEZrK': 'items',\n",
    "    'tblSYZrSYVQJcvNkR': 'customers',\n",
    "    'tblkGA9TFjiGyiqTN': 'payments',\n",
    "    'tblm5kBGMQg08mIej': 'suppliers',\n",
    "    'tblFuLuXFBtrqHbe3': 'catalog',\n",
    "    'tbly4c5vUFLAP91ga': 'orders'\n",
    "}\n"
   ]
  },
  {
   "cell_type": "code",
   "execution_count": 4,
   "id": "0dfa61d7-51ae-4a77-8ac7-28717a82e9f0",
   "metadata": {},
   "outputs": [],
   "source": [
    "def fetch_all_airtable_data(api_key, base_id, table_name_mapping):\n",
    "    all_dataframes = {}\n",
    "    for table_id, table_name in table_name_mapping.items():\n",
    "        airtable = Airtable(base_id, table_id, api_key)\n",
    "        records = []\n",
    "        for record in airtable.get_all():\n",
    "            records.append(record['fields'])\n",
    "        df = pd.DataFrame.from_records(records)\n",
    "        all_dataframes[table_name] = df\n",
    "        df.to_csv(f'{table_name}.csv', index=False)\n",
    "    return all_dataframes"
   ]
  },
  {
   "cell_type": "code",
   "execution_count": 5,
   "id": "4692e115-98f8-479f-94ed-cd8473aca708",
   "metadata": {},
   "outputs": [],
   "source": [
    "def clean_fetched():\n",
    "    fetch_all_airtable_data(api_key, base_id, table_name_mapping)\n",
    "    pd.set_option('display.max_colwidth', None)\n",
    "    pd.set_option('display.max_rows', None)\n",
    "    pd.set_option('display.max_columns', None)\n",
    "    orders = pd.read_csv('orders.csv')\n",
    "    pay = pd.read_csv('payments.csv')\n",
    "    # Use a regular expression to extract digits or NaN\n",
    "    orders['Num (from Customer)'] = orders['Num (from Customer)'].str.extract(r\"(\\d+|\\d+\\.\\d+|\\d+\\.\\d+e\\+\\d+|\\d+\\.\\d+e-\\d+|\\d+e\\+\\d+|\\d+e-\\d+|\\d+\\.\\d+e-\\d+|\\d+\\.\\d+e\\+\\d+|NaN)\", expand=False)\n",
    "    # Convert the 'Extracted_Num' column to numeric (handles NaN)\n",
    "    orders['Num (from Customer)'] = pd.to_numeric(orders['Num (from Customer)'], errors='coerce')\n",
    "    orders['Num (from Customer)'] = orders['Num (from Customer)'].astype(pd.Int64Dtype(), errors='ignore')\n",
    "    orders['Order num'] =pd.to_numeric(orders['Order num'], errors='coerce').astype('float64')\n",
    "    orders.dropna(subset=['Num (from Customer)'], inplace=True)\n",
    "    # Use a regular expression to extract digits or NaN\n",
    "    pay['Num (from Customer)'] = pay['Num (from Customer)'].str.extract(r\"(\\d+|\\d+\\.\\d+|\\d+\\.\\d+e\\+\\d+|\\d+\\.\\d+e-\\d+|\\d+e\\+\\d+|\\d+e-\\d+|\\d+\\.\\d+e-\\d+|\\d+\\.\\d+e\\+\\d+|NaN)\", expand=False)\n",
    "    # Convert the 'Extracted_Num' column to numeric (handles NaN)\n",
    "    pay['Num (from Customer)'] = pd.to_numeric(pay['Num (from Customer)'], errors='coerce')\n",
    "    pay['Num (from Customer)'] = pay['Num (from Customer)'].astype(pd.Int64Dtype(), errors='ignore')\n",
    "    pay.sort_values(by=['Num (from Customer)', 'Order # (from Orders)', 'Requested on'], ascending=[True, True, True], inplace=True)\n",
    "    pay.drop_duplicates(subset=['Num (from Customer)', 'Order # (from Orders)'], keep='last', inplace=True)\n",
    "    pay['Order # (from Orders)'] =pd.to_numeric(pay['Order # (from Orders)'], errors='coerce').astype('float64')\n",
    "    \n",
    "    orders.sort_values(by=['Num (from Customer)', '#', 'Order num','Invoice #'], ascending=[True, True, True, True], inplace=True)\n",
    "    \n",
    "    dfa = pd.merge(orders, pay, how='left', left_on=['Num (from Customer)', 'Order num'], right_on=['Num (from Customer)', 'Order # (from Orders)'])\n",
    "    \n",
    "    cust = pd.read_csv('customers.csv')\n",
    "    cust['Num'] = pd.to_numeric(cust['Num'], errors='coerce').astype('Int64')\n",
    "    cust.dropna(subset=['Name'], inplace=True)\n",
    "    cust.dropna(subset=['Num'], inplace=True)\n",
    "    dfa2 = pd.merge(dfa, cust, how='outer', left_on='Num (from Customer)', right_on='Num')\n",
    "    dfa2['Num (from Customer)'].fillna(dfa2['Num'], inplace=True)\n",
    "    dfa2['Name (from Customer)'].fillna(dfa2['Name'], inplace=True)\n",
    "    dfa2['Project name'].fillna(dfa2['Project name (from Orders)'], inplace=True)\n",
    "    dfa2['Project name (from Orders)'].fillna(dfa2['Project name'], inplace=True)\n",
    "    dfa2['Invoicing address (from Customer)_x'].fillna(dfa2['Invoicing address'], inplace=True)\n",
    "    dfa2.drop_duplicates(subset=['Num (from Customer)', 'Order num', 'Project name'], keep='last', inplace=True)\n",
    "    dfa2.drop_duplicates(subset=['Num (from Customer)','Email (from Manager)','Order total','Created: project name','Date quote sent'], keep='last', inplace=True)\n",
    "    \n",
    "    to_drop = ['Manager_x','Today_x','Teams (from Manager)',\n",
    "           'Team Emails (from Managers) (from Teams) (from Manager)_x',\n",
    "          'Customer_x','DELETE invoice total','Year','Invoicing contact (from Customer)_x',\n",
    "           'Invoice button','Items Table_Id','Customer Table_Id',\n",
    "           'Open URL','Order items Table_Id','Payments Table_Id',\n",
    "          'Order to supplier Table_Id','Create quote','Payments_button','Paper track',\n",
    "           'Button quote','Empty order items alert','Check order number',\n",
    "          'Prod and ship','Ship addresses missing (from Customer)','Create BAT',\n",
    "          'Check signed BAT','Create mold invoice','Create cost PDF','Alert mold invoice sent',\n",
    "          'Alert MP invoice payment','Create supplier contract', 'Alert sample approval',\n",
    "          'Manage invoices', 'Update Customer info','Sample order','MP order',\n",
    "          '#','Invoice #','Customer name in text', \n",
    "            'Quantity (from Shipments) (from Order items)','Remains to be shipped (from Order items)','Invoicing address','Invoice Ref',\n",
    "            'Customer name in text','Manage BAT','Total on invoice', 'Balance due on invoice',\n",
    "            'Email (from Invoicing contact) (from Customer)_x','Addresses missing (from Customer)',\n",
    "            'Today plus 7','Days RS', 'Days since R','Paid for MP downpayment',\n",
    "            'Paid for MP','Percentage paid','Order items','Total (from Order items)',\n",
    "            'On invoice (from Order items)','Order unit cost ¥ (from Order items)',\n",
    "           'Cost check (from Order items)','Price check (from Order items)','Total price on invoice (from Order items)',\n",
    "            'Total price mold invoice (from Order items)','Picture (from Order items)',\n",
    "            'Customer contact','Quote PDF','Project type','Payments_x',\n",
    "            'Amount paid (from Invoices)','Status of payment (from Payments)',\n",
    "            'Picture for this order (from Order items)','Picture for this order (from Order items) 2',\n",
    "                        'Status mold payment (from Payments)','Status MP downpayment (from Payments)',\n",
    "                        'Order photo (from Order items)','Order type',\n",
    "           'Payments to suppliers','Payment date (from Payments to suppliers)','Supplier (from Payments to suppliers)',\n",
    "                        'Percentage of downpayment','Balance due time','BAT',\n",
    "                        'Order to supplier','Inner size','Mold invoice issued on','Mold invoice','Stage (from Payments)',\n",
    "                        'Shipments (from Order items)','Customer Payment #','Customer_y','Stage','Payments_y','Days to payment due',\n",
    "                        'Status of payment','Status MP downpayment','Num of days','Warning','Invoicing contact (from Customer)_y',\n",
    "                        'Invoicing address (from Customer)_y','Email (from Invoicing contact) (from Customer)_y',\n",
    "                        'Today_y','Invoiced vs. paid','Invoice total (from Orders)','% asked (auto)',\n",
    "                        'Total cost (from Order items) (from Orders)','¥ due to supplier','Supplier payment status',\n",
    "                        'Paid to supplier','Wire transfer date (July)','Wire transfer amount','Orders_x',\n",
    "                        'Order # (from Orders)','Name (from Customer) (from Orders)','Manager (from Orders)',\n",
    "                        'Order items (from Orders)','View invoice (from Orders)','Supplier payment date (July)','Special discount (from Orders)',\n",
    "           'Status mold payment','Sales Rep','Contacts','Num','Name','Client','Status_y',\n",
    "            'Lifetime value','Email (from Invoicing contact)','Invoicing address','Email (from Sales Rep)',\n",
    "            'Count (Addresses) invoice','Inv addresses missing','Count (Addresses) ship','Ship addresses missing',\n",
    "            'Count contacts','Contact missing','Email (from Contacts)','Update customer info','Orders_y',\n",
    "            'Total paid (from Orders)','Manager_y','Team Emails (from Managers) (from Teams) (from Manager)_y',\n",
    "            'Catalogue','Order status (from Orders)','Shipping addresses', 'Shipping address_y','Other names',\n",
    "           'Payment requests INV','Website','Addresses','Priority','Type (from Addresses)','Products','Invoice Street name and num (from Addresses)',\n",
    "            'Invoice City and Zipcode (from Addresses)','Invoice Country (from Addresses)',\n",
    "          'Container Shipping address #2','Accounting contact Name (from Contacts)','Tax ID / DVT / RFC',\n",
    "           'Artwork contact Name (from Contacts)','Phone','Quotes','Logistics contact Name (from Contacts)',\n",
    "           'First contact','Last modified time of first contact']\n",
    "    dfa2.drop(columns=to_drop, inplace=True)\n",
    "    dfa2.to_csv('orderspaymentscust.csv', index=False)\n",
    "    return dfa2"
   ]
  },
  {
   "cell_type": "code",
   "execution_count": 6,
   "id": "89fbf97d-5e6b-4655-a6ef-b8848d901621",
   "metadata": {},
   "outputs": [],
   "source": [
    "def load_data():\n",
    "    if os.path.exists('orderspaymentscust.csv'):\n",
    "        df = pd.read_csv('orderspaymentscust.csv')\n",
    "    else:\n",
    "        df = clean_fetched()\n",
    "    \n",
    "    return df"
   ]
  },
  {
   "cell_type": "code",
   "execution_count": 7,
   "id": "08913404-e644-4de0-bbf8-6740e3dcb9d3",
   "metadata": {},
   "outputs": [],
   "source": [
    "df = load_data()"
   ]
  },
  {
   "cell_type": "code",
   "execution_count": 8,
   "id": "55f78598-83e8-487f-be2e-e186792da33c",
   "metadata": {},
   "outputs": [],
   "source": [
    "# Parameters for retrieving the airtable data\n",
    "def get_data():\n",
    "    df = load_data()\n",
    "    pd.set_option('display.max_rows', None)\n",
    "    pd.set_option('display.max_columns', None)\n",
    "\n",
    "    df['Project name'] = df['Project name'].fillna('Unknown')\n",
    "    df['Name (from Customer)'] = df['Name (from Customer)'].astype(str).str.replace(r'\\d+', '', regex=True).str.replace('[^a-zA-Z0-9]', ' ', regex=True).str.title().str.strip()\n",
    "    df['Num (from Customer)'] = df['Num (from Customer)'].apply(lambda x: int(''.join(filter(str.isdigit, str(x).replace('[', '').replace(']', '')))) if pd.notna(x) else np.nan)\n",
    "    df['Bottle Type'] = df['Item description (from Order items)'].apply(lambda x: re.findall(r'[a-zA-Z]+', x.split('-')[0])[0] if isinstance(x, str) and '-' in x else 'N/A')\n",
    "    df['Bundle Bottle'] = df['Item description (from Order items)'].str.extract(r'(\\w+ bottle)')\n",
    "    df['Amount Unpaid'] = df['Total paid'] - df['Order total']\n",
    "    df['Balance due quartile desc'] = pd.qcut(df['Balance due'], q=4, labels=['3', '2', '1'], duplicates='drop')\n",
    "    #df['Balance due quartile desc'] = pd.qcut(df['Balance due'], q=4, labels=['4', '3', '2', '1'])\n",
    "    df['Number of Purchases'] = df.groupby('Num (from Customer)')['Num (from Customer)'].transform('count')\n",
    "    df['Client Type'] = np.where(df['Number of Purchases'] == 1, 'New', 'Returning')\n",
    "    df['Average Purchase Amount'] = df.groupby('Num (from Customer)')['Order total'].transform('mean')\n",
    "    df['Created: project name'] = df['Created: project name'].astype(str)\n",
    "    df['Clean Date'] = pd.to_datetime(df['Created: project name'].str.replace('nan', ''), format='%Y-%m-%dT%H:%M:%S.%fZ', errors='coerce')\n",
    "    df['Cost total'] = pd.to_numeric(df['Total cost (from Order items)'], errors='coerce').fillna(0) / 7\n",
    "    df['Date quote requested'] = pd.to_datetime(df['Date quote requested'])\n",
    "    df['Date quote created'] = pd.to_datetime(df['Date quote created'])\n",
    "    df['Date quote sent'] = pd.to_datetime(df['Date quote sent'])\n",
    "    df['Order date'] = pd.to_datetime(df['Order date'])\n",
    "    df['Month'] = df['Clean Date'].dt.strftime('%Y-%m')\n",
    "    df['Sales Rep (from Customer)'] = df['Sales Rep (from Customer)'].astype(str)\n",
    "    df['Order num'] = pd.to_numeric(df['Order num'].astype(str).str.replace(r'[^0-9,]', '', regex=True), errors='coerce')\n",
    "    df['Order status'] = df['Order status'].fillna('Quote status', inplace=True)\n",
    "    df['Gross Margin'] = df['Order total'] - df['Cost total']\n",
    "\n",
    "    # List of columns to format\n",
    "    columns_to_format = ['Amount Unpaid', 'Order total', 'Balance due', 'Gross Margin', 'Cost total', 'Average Purchase Amount']\n",
    "    # Apply the formatting function to each column\n",
    "    for column in columns_to_format:\n",
    "        df[column] = df[column].apply(lambda row: float(row.format(\".2f\")))\n",
    "    columns_to_keep = ['Date quote accepted', 'Date quote created', 'Date quote requested', 'Date quote sent','Clean Date','Month']\n",
    "    columns_to_drop = df.columns[df.isnull().mean() >= 0.8].difference(columns_to_keep)\n",
    "    df.drop(columns=columns_to_drop, inplace=True)\n",
    "\n",
    "    df = df.sort_values(by=['Num (from Customer)', 'Project name', 'Clean Date'], ascending=[True, True, True])\n",
    "    \n",
    "    return df"
   ]
  },
  {
   "cell_type": "code",
   "execution_count": 9,
   "id": "53af8126-c0c6-476b-949e-eef9db4f1d14",
   "metadata": {},
   "outputs": [],
   "source": [
    "fetch_table = get_data()"
   ]
  },
  {
   "cell_type": "code",
   "execution_count": null,
   "id": "bc3b9e1f-73fc-4344-9374-39366eaa371f",
   "metadata": {},
   "outputs": [],
   "source": []
  },
  {
   "cell_type": "markdown",
   "id": "825bc33e-8d59-4d05-a0fc-0fc8da32888c",
   "metadata": {},
   "source": [
    "#### Aggs view - 1st layout"
   ]
  },
  {
   "cell_type": "code",
   "execution_count": 10,
   "id": "c52c373f-ec4e-477b-bdce-53d496163c03",
   "metadata": {},
   "outputs": [],
   "source": [
    "#sales per month, per client and per project (total/balance due)\n",
    "def sales_per_month():\n",
    "    df = get_data()\n",
    "    sales_by_month = df.groupby(['Month', 'Name (from Customer)', 'Num (from Customer)', 'Project name']).agg(\n",
    "        Total_Sales=('Order total', 'sum'),\n",
    "        Balance_Due=('Balance due', 'sum'),\n",
    "        Margin=('Gross Margin','sum')\n",
    "    ).reset_index()   \n",
    "    return sales_by_month\n"
   ]
  },
  {
   "cell_type": "code",
   "execution_count": 11,
   "id": "078b36b3-684c-4cf2-8492-fdd8ee74ccdf",
   "metadata": {},
   "outputs": [],
   "source": [
    "sales_df = sales_per_month()"
   ]
  },
  {
   "cell_type": "code",
   "execution_count": null,
   "id": "e9bd4b3c-15f9-4a1d-9ed8-29ef2be70402",
   "metadata": {},
   "outputs": [],
   "source": []
  },
  {
   "cell_type": "code",
   "execution_count": 12,
   "id": "02a20c78-daab-45e8-a7d3-4ec286389e48",
   "metadata": {},
   "outputs": [],
   "source": [
    "#aggregated view per month\n",
    "def sales_sum_per_month():\n",
    "    df = sales_per_month()\n",
    "    sales_sum = df.groupby(['Month'])[['Total_Sales', 'Balance_Due','Margin']].sum().reset_index()\n",
    "    return sales_sum"
   ]
  },
  {
   "cell_type": "code",
   "execution_count": 13,
   "id": "a6abc824-1aa0-42ca-b8a4-d45ca79f1937",
   "metadata": {},
   "outputs": [],
   "source": [
    "sales_sum = sales_sum_per_month()"
   ]
  },
  {
   "cell_type": "code",
   "execution_count": 14,
   "id": "531027ed-8a92-4ec9-9283-e5ba8042a0b9",
   "metadata": {},
   "outputs": [
    {
     "data": {
      "text/html": [
       "<div>\n",
       "<style scoped>\n",
       "    .dataframe tbody tr th:only-of-type {\n",
       "        vertical-align: middle;\n",
       "    }\n",
       "\n",
       "    .dataframe tbody tr th {\n",
       "        vertical-align: top;\n",
       "    }\n",
       "\n",
       "    .dataframe thead th {\n",
       "        text-align: right;\n",
       "    }\n",
       "</style>\n",
       "<table border=\"1\" class=\"dataframe\">\n",
       "  <thead>\n",
       "    <tr style=\"text-align: right;\">\n",
       "      <th></th>\n",
       "      <th>Month</th>\n",
       "      <th>Total_Sales</th>\n",
       "      <th>Balance_Due</th>\n",
       "      <th>Margin</th>\n",
       "    </tr>\n",
       "  </thead>\n",
       "  <tbody>\n",
       "    <tr>\n",
       "      <th>0</th>\n",
       "      <td>2023-07</td>\n",
       "      <td>80,394.5059,040.0095,250.00103,770.00274,176.0...</td>\n",
       "      <td>0.0059,040.0095,250.0051,885.00274,176.00251,1...</td>\n",
       "      <td>23,477.3659,040.0050,321.5738,672.86274,176.00...</td>\n",
       "    </tr>\n",
       "    <tr>\n",
       "      <th>1</th>\n",
       "      <td>2023-08</td>\n",
       "      <td>54,900.0081,240.000.000.004,200.000.0095,135.0...</td>\n",
       "      <td>54,900.0040,655.000.000.004,200.000.000.000.00...</td>\n",
       "      <td>18,214.2917,092.310.000.002,200.000.0079,691.0...</td>\n",
       "    </tr>\n",
       "    <tr>\n",
       "      <th>2</th>\n",
       "      <td>2023-09</td>\n",
       "      <td>0.00174,468.00161,850.004,150.0071,840.528,800...</td>\n",
       "      <td>0.00174,468.0080,965.0025.0037,390.680.00-600....</td>\n",
       "      <td>0.00127,144.0032,001.432,678.5739,124.124,800....</td>\n",
       "    </tr>\n",
       "    <tr>\n",
       "      <th>3</th>\n",
       "      <td>2023-10</td>\n",
       "      <td>60,825.6046,612.80100.00169,693.4435,520.000.0...</td>\n",
       "      <td>60,825.6046,612.80100.0048,949.7265.00-167,360...</td>\n",
       "      <td>48,495.008,728.8010.57130,955.3323,183.960.004...</td>\n",
       "    </tr>\n",
       "  </tbody>\n",
       "</table>\n",
       "</div>"
      ],
      "text/plain": [
       "     Month                                        Total_Sales  \\\n",
       "0  2023-07  80,394.5059,040.0095,250.00103,770.00274,176.0...   \n",
       "1  2023-08  54,900.0081,240.000.000.004,200.000.0095,135.0...   \n",
       "2  2023-09  0.00174,468.00161,850.004,150.0071,840.528,800...   \n",
       "3  2023-10  60,825.6046,612.80100.00169,693.4435,520.000.0...   \n",
       "\n",
       "                                         Balance_Due  \\\n",
       "0  0.0059,040.0095,250.0051,885.00274,176.00251,1...   \n",
       "1  54,900.0040,655.000.000.004,200.000.000.000.00...   \n",
       "2  0.00174,468.0080,965.0025.0037,390.680.00-600....   \n",
       "3  60,825.6046,612.80100.0048,949.7265.00-167,360...   \n",
       "\n",
       "                                              Margin  \n",
       "0  23,477.3659,040.0050,321.5738,672.86274,176.00...  \n",
       "1  18,214.2917,092.310.000.002,200.000.0079,691.0...  \n",
       "2  0.00127,144.0032,001.432,678.5739,124.124,800....  \n",
       "3  48,495.008,728.8010.57130,955.3323,183.960.004...  "
      ]
     },
     "execution_count": 14,
     "metadata": {},
     "output_type": "execute_result"
    }
   ],
   "source": [
    "sales_sum"
   ]
  },
  {
   "cell_type": "code",
   "execution_count": 15,
   "id": "fdd21429-3a2d-4af9-9f45-bb0ab6ff92ae",
   "metadata": {},
   "outputs": [],
   "source": [
    "def project_summary():\n",
    "    df = get_data()\n",
    "    df = df[~df['Name (from Customer)'].str.contains('Komos')]\n",
    "    project_summary = df.groupby(['Name (from Customer)']).agg(\n",
    "        Project_Count=('Project name', 'nunique'),\n",
    "        Margin=('Gross Margin','sum'),\n",
    "        Total_Quantity=('Quantity (from Order items)', 'sum'),\n",
    "        Total_Order=('Order total', 'sum'),\n",
    "        Total_Cost=('Cost total', 'sum')\n",
    "    ).reset_index()\n",
    "\n",
    "    project_summary['Total_Order'] = pd.to_numeric(project_summary['Total_Order'], errors='coerce')\n",
    "    project_summary = project_summary[\n",
    "        (project_summary['Total_Order'].notna()) & (project_summary['Total_Order'] > 0)\n",
    "    ]\n",
    "\n",
    "    project_summary = project_summary.sort_values(\n",
    "        by=['Margin','Total_Order', 'Total_Cost', 'Total_Quantity'],\n",
    "        ascending=[False, False, False, False]\n",
    "    )\n",
    "    \n",
    "    return project_summary\n"
   ]
  },
  {
   "cell_type": "code",
   "execution_count": 16,
   "id": "f7900db0-78a2-4c40-8fbb-d100b08b3750",
   "metadata": {},
   "outputs": [],
   "source": [
    "project_summary = project_summary()"
   ]
  },
  {
   "cell_type": "code",
   "execution_count": 17,
   "id": "12d7f6d2-1b36-4d84-9bd0-3d36c3e8dd07",
   "metadata": {},
   "outputs": [],
   "source": [
    "layout={ \"orientation\": \"h\" }"
   ]
  },
  {
   "cell_type": "code",
   "execution_count": null,
   "id": "0361c356-36a8-46b3-bf39-3ccb94d4286c",
   "metadata": {},
   "outputs": [],
   "source": []
  },
  {
   "cell_type": "markdown",
   "id": "175e2703-f788-467e-91d9-be3dfc68709f",
   "metadata": {},
   "source": [
    "#### Refine selection - 2nd layout"
   ]
  },
  {
   "cell_type": "code",
   "execution_count": 18,
   "id": "086b0a6c-449d-4962-9e5b-c11026fa1969",
   "metadata": {},
   "outputs": [],
   "source": [
    "def month_df():\n",
    "    df = get_data()\n",
    "    unique_months = sorted(df['Month'].dropna().unique())\n",
    "    return unique_months"
   ]
  },
  {
   "cell_type": "code",
   "execution_count": 19,
   "id": "f29ad0a5-74fe-452b-994c-e2d599f42476",
   "metadata": {},
   "outputs": [],
   "source": [
    "def customer_df():\n",
    "    df = get_data()\n",
    "    cust = sorted(df['Name (from Customer)'].unique())\n",
    "    return cust"
   ]
  },
  {
   "cell_type": "code",
   "execution_count": 20,
   "id": "1b17a95a-8c2e-4b5d-adf4-166da3116487",
   "metadata": {},
   "outputs": [],
   "source": [
    "def sales_rep():\n",
    "    df = get_data()\n",
    "    rep = sorted(df['Sales Rep (from Customer)'].unique())\n",
    "    return rep  "
   ]
  },
  {
   "cell_type": "code",
   "execution_count": 21,
   "id": "2b84c93b-5ec2-4246-924e-f26dfbaf6328",
   "metadata": {},
   "outputs": [],
   "source": [
    "month_lov = month_df()\n",
    "cust_lov = customer_df() \n",
    "rep_lov = sales_rep()\n",
    "\n",
    "selected_month = month_lov[0]\n",
    "selected_cust = cust_lov[0] \n",
    "selected_rep = rep_lov[0]"
   ]
  },
  {
   "cell_type": "code",
   "execution_count": 22,
   "id": "ec780fc4-cb5b-448f-bc24-f4e5ce070c87",
   "metadata": {},
   "outputs": [],
   "source": [
    "def sales_sum_per_month(selected_month):\n",
    "    df = sales_per_month()  # You may need to pass the selected_month to the sales_per_month function as well\n",
    "    df = df[df['Month'] == selected_month]\n",
    "    sales_sum = df.groupby(['Month'])[['Total_Sales', 'Balance_Due']].sum().reset_index()\n",
    "    return sales_sum\n"
   ]
  },
  {
   "cell_type": "code",
   "execution_count": 23,
   "id": "5165d6f8-18e7-4e5e-88e6-5185eeecd4f1",
   "metadata": {},
   "outputs": [],
   "source": [
    "sales_on_month = sales_sum_per_month(selected_month)['Total_Sales']\n",
    "balance_on_month = sales_sum_per_month(selected_month)['Balance_Due']"
   ]
  },
  {
   "cell_type": "code",
   "execution_count": 24,
   "id": "79d53769-130e-4a8a-9180-729a74ee00de",
   "metadata": {},
   "outputs": [],
   "source": [
    "def fetch_project_details(month, cust):\n",
    "    df = get_data()\n",
    "    df = df[df['Name (from Customer)'] == cust]\n",
    "\n",
    "    #filter for month\n",
    "    if isinstance(month, str):\n",
    "        month = [month]\n",
    "    if month:\n",
    "        df = df[df['Month'].isin(month)]\n",
    "\n",
    "    project_details = df.groupby(['Project name']).agg(\n",
    "        Total_Sales=('Order total', 'sum'),\n",
    "        Balance_Due=('Balance due', 'sum')\n",
    "    ).reset_index()\n",
    "    \n",
    "    return project_details\n"
   ]
  },
  {
   "cell_type": "code",
   "execution_count": 25,
   "id": "ef9cbc46-99a5-4643-a766-e911d074b57a",
   "metadata": {},
   "outputs": [],
   "source": [
    "project_details = fetch_project_details(selected_month, selected_cust)"
   ]
  },
  {
   "cell_type": "code",
   "execution_count": 26,
   "id": "a32c6975-4fb6-4bba-9a35-17fc99b25056",
   "metadata": {},
   "outputs": [],
   "source": [
    "def gantt_df(month,rep):\n",
    "    df = get_data()\n",
    "    filtered_df = df[(df['Sales Rep (from Customer)'] == sales_rep) & (df['Month'] == month)]\n",
    "\n",
    "    date_columns = ['Order date', 'Date quote created', 'Date quote accepted']\n",
    "    for col in date_columns:\n",
    "        filtered_df[col] = pd.to_datetime(filtered_df[col])\n",
    "\n",
    "    grouped = filtered_df.groupby(['Name (from Customer)','Project name'])\n",
    "    \n",
    "    #GANTT CHART\n",
    "    gantt_data = []\n",
    "    \n",
    "    for (order_num, customer), group in grouped:\n",
    "        order_dates = group['Order date'].values[0]\n",
    "        for _, row in group.iterrows():\n",
    "            gantt_data.append([customer, order_num, row['Quote status'], order_dates, row['Date quote created'], row['Date quote accepted']])\n",
    "            order_dates = row['Date quote accepted']\n",
    "    \n",
    "    gantt_df = pd.DataFrame(gantt_data, columns=['Customer', 'Project name', 'Quote status', 'Start', 'Create', 'Accepted'])\n",
    "    return gantt_df\n"
   ]
  },
  {
   "cell_type": "code",
   "execution_count": 27,
   "id": "0930a667-f6e5-43a1-868d-e7dabc312d48",
   "metadata": {},
   "outputs": [],
   "source": [
    "gantt_rep = gantt_df(selected_month,selected_rep)"
   ]
  },
  {
   "cell_type": "code",
   "execution_count": null,
   "id": "6a3482b6-6294-4875-ad35-74f593014b58",
   "metadata": {},
   "outputs": [],
   "source": []
  },
  {
   "cell_type": "markdown",
   "id": "e058ef8a-88d5-42ff-9821-43d9b316f53d",
   "metadata": {},
   "source": [
    "#### Segmentation heatmap"
   ]
  },
  {
   "cell_type": "code",
   "execution_count": 28,
   "id": "fe7bfe8d-4276-4ad0-87f6-b40f4b3a4e38",
   "metadata": {},
   "outputs": [],
   "source": [
    "selected_cust_rfm = cust_lov[0] "
   ]
  },
  {
   "cell_type": "code",
   "execution_count": 29,
   "id": "d1ff1818-2c29-48e2-8c0e-5ed1661d93ec",
   "metadata": {},
   "outputs": [],
   "source": [
    "def create_rfm_table():\n",
    "    df = get_data()\n",
    "    NOW = df['Clean Date'].max() + timedelta(days=1)\n",
    "    period = 365\n",
    "    df['Days since last order'] = df['Clean Date'].apply(lambda x: (NOW - x).days)\n",
    "    aggr = {\n",
    "        'Days since last order': lambda x: x.min(),  # the number of days since last order (Recency)\n",
    "        'Clean Date': lambda x: len([d for d in x if d >= NOW - timedelta(days=period)]), # the total number of orders in the last period (Frequency)\n",
    "    }\n",
    "    rfm = df.groupby('Num (from Customer)').agg(aggr).reset_index()\n",
    "    rfm.rename(columns={'Days since last order': 'Recency', 'Clean Date': 'Frequency'}, inplace=True)\n",
    "    rfm['Monetary'] = rfm['Num (from Customer)'].apply(lambda x: df[(df['Num (from Customer)'] == x) & \\\n",
    "                                                               (df['Clean Date'] >= NOW - timedelta(days=period))]\\\n",
    "                                                               ['Order total'].sum())\n",
    "    quintiles = rfm[['Recency', 'Frequency', 'Monetary']].quantile([.2, .4, .6, .8]).to_dict()\n",
    "    #assign ranks whereby higher monet and higher freq are better but recency smaller better\n",
    "    def r_score(x):\n",
    "        if x <= quintiles['Recency'][.2]:\n",
    "            return 5\n",
    "        elif x <= quintiles['Recency'][.4]:\n",
    "            return 4\n",
    "        elif x <= quintiles['Recency'][.6]:\n",
    "            return 3\n",
    "        elif x <= quintiles['Recency'][.8]:\n",
    "            return 2\n",
    "        else:\n",
    "            return 1\n",
    "    \n",
    "    def fm_score(x, c):\n",
    "        if x <= quintiles[c][.2]:\n",
    "            return 1\n",
    "        elif x <= quintiles[c][.4]:\n",
    "            return 2\n",
    "        elif x <= quintiles[c][.6]:\n",
    "            return 3\n",
    "        elif x <= quintiles[c][.8]:\n",
    "            return 4\n",
    "        else:\n",
    "            return 5    \n",
    "    #apply for each cust\n",
    "    rfm['R'] = rfm['Recency'].apply(lambda x: r_score(x))\n",
    "    rfm['F'] = rfm['Frequency'].apply(lambda x: fm_score(x, 'Frequency'))\n",
    "    rfm['M'] = rfm['Monetary'].apply(lambda x: fm_score(x, 'Monetary'))\n",
    "    rfm['RFM Score'] = rfm['R'].map(str) + rfm['F'].map(str) + rfm['M'].map(str)\n",
    "    # Function to map RFM scores to segments\n",
    "    rfm['RFM Score'] = rfm['RFM Score'].astype(str).astype(int)\n",
    "    def map_segment(rfm_score):\n",
    "        if rfm_score in [111, 112, 121, 131, 141, 151]:\n",
    "            return 'Lost'\n",
    "        elif rfm_score in [332, 322, 231, 241, 251, 233, 232, 223, 222, 132, 123, 122, 212, 211]:\n",
    "            return 'Hibernating'\n",
    "        elif rfm_score in [255, 254, 245, 244, 253, 252, 243, 242, 235, 234, 225, 224, 153, 152, 145, 143, 142, 135, 134, 133, 125, 124]:\n",
    "            return 'At Risk'\n",
    "        elif rfm_score in [331, 321, 312, 221, 213]:\n",
    "            return 'About To Sleep'\n",
    "        elif rfm_score in [155, 154, 144, 214, 215, 115, 114, 113]:\n",
    "            return 'Cannot Lose Them'\n",
    "        elif rfm_score in [535, 534, 443, 434, 343, 334, 325, 324]:\n",
    "            return 'Need Attention'\n",
    "        elif rfm_score in [525, 524, 523, 522, 521, 515, 514, 513, 425, 424, 413, 414, 415, 315, 314, 313]:\n",
    "            return 'Promising'\n",
    "        elif rfm_score in [512, 511, 422, 421, 412, 411, 311]:\n",
    "            return 'New Customer'\n",
    "        elif rfm_score in [553, 551, 552, 541, 542, 533, 532, 531, 452, 451, 442, 441, 431, 453, 433, 432, 423, 353, 352, 351, 342, 341, 333, 323]:\n",
    "            return 'Potential Loyalist'\n",
    "        elif rfm_score in [543, 444, 435, 355, 354, 345, 344, 335]:\n",
    "            return 'Loyal Customer'\n",
    "        elif rfm_score in [555, 554, 544, 545, 454, 455, 445]:\n",
    "            return 'Champion'\n",
    "        else:\n",
    "            return 'Unknown'\n",
    "    \n",
    "    # Apply the mapping function to create the 'Segment' column\n",
    "    rfm['Segment'] = rfm['RFM Score'].apply(map_segment)\n",
    "    # Dictionary to map segments to behavior and potential strategy\n",
    "    segment_mapping = {\n",
    "        'Champion': {\n",
    "            'Segment Behavior': 'Completed a recent purchase. They buy frequently and spend the most. Reward them. Can be early adopters of new products. They act as brand ambassadors.',\n",
    "            'Segment Potential Strategy': 'Reward them. Can be early adopters of new products. They act as brand ambassadors.'\n",
    "        },\n",
    "        'Loyal Customer': {\n",
    "            'Segment Behavior': 'Buy on a regular basis. Responsive to promotions. Upsell. Offer high-value items to them. Ask them for reviews. Build loyalty.',\n",
    "            'Segment Potential Strategy': 'Upsell. Offer high-value items to them. Ask them for reviews. Build loyalty.'\n",
    "        },\n",
    "        'Potential Loyalist': {\n",
    "            'Segment Behavior': 'They recently spent a fair amount of money on the site more than once. Invite them to join a loyalty program or to get a membership. Recommend other products to them.',\n",
    "            'Segment Potential Strategy': 'Invite them to join a loyalty program or to get a membership. Recommend other products to them.'\n",
    "        },\n",
    "        'Promising': {\n",
    "            'Segment Behavior': 'Bought most recently, but not often enough for us to understand their behavior. Support them on their onboarding process. Get their satisfaction. Start to build loyalty.',\n",
    "            'Segment Potential Strategy': 'Support them on their onboarding process. Get their satisfaction. Start to build loyalty.'\n",
    "        },\n",
    "        'New Customer': {\n",
    "            'Segment Behavior': 'Completed a recent purchase, but didn’t spend a lot. Create brand awareness. Offer discounts, gifts, and free trials.',\n",
    "            'Segment Potential Strategy': 'Create brand awareness. Offer discounts, gifts, and free trials.'\n",
    "        },\n",
    "        'Need Attention': {\n",
    "            'Segment Behavior': 'Above average in recency, frequency, and monetary value, but no recent purchases. Launch limited-time offers and recommendations based on previous orders. Reactivate.',\n",
    "            'Segment Potential Strategy': 'Launch limited-time offers and recommendations based on previous orders. Reactivate.'\n",
    "        },\n",
    "        'Cannot Lose Them': {\n",
    "            'Segment Behavior': 'Completed huge, frequent purchases long ago but haven’t come back since then. Get them back with new product launches. Don’t let competitors take them. Talk to them.',\n",
    "            'Segment Potential Strategy': 'Get them back with new product launches. Don’t let competitors take them. Talk to them.'\n",
    "        },\n",
    "        'About To Sleep': {\n",
    "            'Segment Behavior': 'Below average in recency, frequency, and monetary value. At risk of losing them if you don’t reactivate. Share useful information. Recommend popular products to them. Offer new discounts. Reconnect.',\n",
    "            'Segment Potential Strategy': 'Share useful information. Recommend popular products to them. Offer new discounts. Reconnect.'\n",
    "        },\n",
    "        'At Risk': {\n",
    "            'Segment Behavior': 'Purchased often but a long time ago. Need to bring them back! Send personalized emails to reconnect with special offers. Share useful resources with them.',\n",
    "            'Segment Potential Strategy': 'Send personalized emails to reconnect with special offers. Share useful resources with them.'\n",
    "        },\n",
    "        'Hibernating': {\n",
    "            'Segment Behavior': 'Their last purchase was long ago. The number of orders was small and the amounts spent low. Offer relevant products and special discounts. Create brand value again.',\n",
    "            'Segment Potential Strategy': 'Offer relevant products and special discounts. Create brand value again.'\n",
    "        },\n",
    "        'Lost': {\n",
    "            'Segment Behavior': 'Lowest scores in recency, frequency, and monetary value. Try to reactivate them with personalized campaigns. If it doesn’t work, ignore them.',\n",
    "            'Segment Potential Strategy': 'Try to reactivate them with personalized campaigns. If it doesn’t work, ignore them.'\n",
    "        }\n",
    "    }\n",
    "    \n",
    "    # Map the segments to behavior and potential strategy\n",
    "    rfm['Segment Behavior'] = rfm['Segment'].map(lambda x: segment_mapping[x]['Segment Behavior'])\n",
    "    rfm['Segment Potential Strategy'] = rfm['Segment'].map(lambda x: segment_mapping[x]['Segment Potential Strategy'])\n",
    "    return rfm"
   ]
  },
  {
   "cell_type": "code",
   "execution_count": 30,
   "id": "bc2752de-cac0-4a6b-875e-f3bef1a7acd6",
   "metadata": {},
   "outputs": [],
   "source": [
    "def rfm_heatmap():\n",
    "    rfm = create_rfm_table()\n",
    "    rfm_avg = rfm.groupby('Segment').agg({\n",
    "        'R': lambda x: x.mode().iloc[0],\n",
    "        'F': lambda x: x.mode().iloc[0],\n",
    "        'M': lambda x: x.mode().iloc[0],\n",
    "        'Num (from Customer)': 'count'\n",
    "    }).round(1)\n",
    "    rfm_avg.rename(columns={'Num (from Customer)': 'Count'}, inplace=True)\n",
    "    return rfm_avg.reset_index()"
   ]
  },
  {
   "cell_type": "code",
   "execution_count": 31,
   "id": "23231a2b-9165-4735-a889-b3c6cd4f286a",
   "metadata": {},
   "outputs": [],
   "source": [
    "def client_segment_map(selected_cust_rfm):\n",
    "    rfm = create_rfm_table()\n",
    "    df = get_data()\n",
    "    df = df.merge(rfm, on='Num (from Customer)', how='left')\n",
    "    return df[df['Name (from Customer)'].str.contains(selected_cust_rfm)][['Name (from Customer)', 'Segment','Segment Behavior','Segment Potential Strategy']].head(1)"
   ]
  },
  {
   "cell_type": "code",
   "execution_count": 32,
   "id": "bfd922e2-7f75-4475-918a-b6d618f37779",
   "metadata": {},
   "outputs": [
    {
     "ename": "TypeError",
     "evalue": "'<' not supported between instances of 'int' and 'str'",
     "output_type": "error",
     "traceback": [
      "\u001b[1;31m---------------------------------------------------------------------------\u001b[0m",
      "\u001b[1;31mTypeError\u001b[0m                                 Traceback (most recent call last)",
      "Cell \u001b[1;32mIn[32], line 1\u001b[0m\n\u001b[1;32m----> 1\u001b[0m segment_map \u001b[38;5;241m=\u001b[39m \u001b[43mclient_segment_map\u001b[49m\u001b[43m(\u001b[49m\u001b[43mselected_cust_rfm\u001b[49m\u001b[43m)\u001b[49m\n",
      "Cell \u001b[1;32mIn[31], line 2\u001b[0m, in \u001b[0;36mclient_segment_map\u001b[1;34m(selected_cust_rfm)\u001b[0m\n\u001b[0;32m      1\u001b[0m \u001b[38;5;28;01mdef\u001b[39;00m \u001b[38;5;21mclient_segment_map\u001b[39m(selected_cust_rfm):\n\u001b[1;32m----> 2\u001b[0m     rfm \u001b[38;5;241m=\u001b[39m \u001b[43mcreate_rfm_table\u001b[49m\u001b[43m(\u001b[49m\u001b[43m)\u001b[49m\n\u001b[0;32m      3\u001b[0m     df \u001b[38;5;241m=\u001b[39m get_data()\n\u001b[0;32m      4\u001b[0m     df \u001b[38;5;241m=\u001b[39m df\u001b[38;5;241m.\u001b[39mmerge(rfm, on\u001b[38;5;241m=\u001b[39m\u001b[38;5;124m'\u001b[39m\u001b[38;5;124mNum (from Customer)\u001b[39m\u001b[38;5;124m'\u001b[39m, how\u001b[38;5;241m=\u001b[39m\u001b[38;5;124m'\u001b[39m\u001b[38;5;124mleft\u001b[39m\u001b[38;5;124m'\u001b[39m)\n",
      "Cell \u001b[1;32mIn[29], line 15\u001b[0m, in \u001b[0;36mcreate_rfm_table\u001b[1;34m()\u001b[0m\n\u001b[0;32m     11\u001b[0m rfm\u001b[38;5;241m.\u001b[39mrename(columns\u001b[38;5;241m=\u001b[39m{\u001b[38;5;124m'\u001b[39m\u001b[38;5;124mDays since last order\u001b[39m\u001b[38;5;124m'\u001b[39m: \u001b[38;5;124m'\u001b[39m\u001b[38;5;124mRecency\u001b[39m\u001b[38;5;124m'\u001b[39m, \u001b[38;5;124m'\u001b[39m\u001b[38;5;124mClean Date\u001b[39m\u001b[38;5;124m'\u001b[39m: \u001b[38;5;124m'\u001b[39m\u001b[38;5;124mFrequency\u001b[39m\u001b[38;5;124m'\u001b[39m}, inplace\u001b[38;5;241m=\u001b[39m\u001b[38;5;28;01mTrue\u001b[39;00m)\n\u001b[0;32m     12\u001b[0m rfm[\u001b[38;5;124m'\u001b[39m\u001b[38;5;124mMonetary\u001b[39m\u001b[38;5;124m'\u001b[39m] \u001b[38;5;241m=\u001b[39m rfm[\u001b[38;5;124m'\u001b[39m\u001b[38;5;124mNum (from Customer)\u001b[39m\u001b[38;5;124m'\u001b[39m]\u001b[38;5;241m.\u001b[39mapply(\u001b[38;5;28;01mlambda\u001b[39;00m x: df[(df[\u001b[38;5;124m'\u001b[39m\u001b[38;5;124mNum (from Customer)\u001b[39m\u001b[38;5;124m'\u001b[39m] \u001b[38;5;241m==\u001b[39m x) \u001b[38;5;241m&\u001b[39m \\\n\u001b[0;32m     13\u001b[0m                                                            (df[\u001b[38;5;124m'\u001b[39m\u001b[38;5;124mClean Date\u001b[39m\u001b[38;5;124m'\u001b[39m] \u001b[38;5;241m>\u001b[39m\u001b[38;5;241m=\u001b[39m NOW \u001b[38;5;241m-\u001b[39m timedelta(days\u001b[38;5;241m=\u001b[39mperiod))]\\\n\u001b[0;32m     14\u001b[0m                                                            [\u001b[38;5;124m'\u001b[39m\u001b[38;5;124mOrder total\u001b[39m\u001b[38;5;124m'\u001b[39m]\u001b[38;5;241m.\u001b[39msum())\n\u001b[1;32m---> 15\u001b[0m quintiles \u001b[38;5;241m=\u001b[39m \u001b[43mrfm\u001b[49m\u001b[43m[\u001b[49m\u001b[43m[\u001b[49m\u001b[38;5;124;43m'\u001b[39;49m\u001b[38;5;124;43mRecency\u001b[39;49m\u001b[38;5;124;43m'\u001b[39;49m\u001b[43m,\u001b[49m\u001b[43m \u001b[49m\u001b[38;5;124;43m'\u001b[39;49m\u001b[38;5;124;43mFrequency\u001b[39;49m\u001b[38;5;124;43m'\u001b[39;49m\u001b[43m,\u001b[49m\u001b[43m \u001b[49m\u001b[38;5;124;43m'\u001b[39;49m\u001b[38;5;124;43mMonetary\u001b[39;49m\u001b[38;5;124;43m'\u001b[39;49m\u001b[43m]\u001b[49m\u001b[43m]\u001b[49m\u001b[38;5;241;43m.\u001b[39;49m\u001b[43mquantile\u001b[49m\u001b[43m(\u001b[49m\u001b[43m[\u001b[49m\u001b[38;5;241;43m.2\u001b[39;49m\u001b[43m,\u001b[49m\u001b[43m \u001b[49m\u001b[38;5;241;43m.4\u001b[39;49m\u001b[43m,\u001b[49m\u001b[43m \u001b[49m\u001b[38;5;241;43m.6\u001b[39;49m\u001b[43m,\u001b[49m\u001b[43m \u001b[49m\u001b[38;5;241;43m.8\u001b[39;49m\u001b[43m]\u001b[49m\u001b[43m)\u001b[49m\u001b[38;5;241m.\u001b[39mto_dict()\n\u001b[0;32m     16\u001b[0m \u001b[38;5;66;03m#assign ranks whereby higher monet and higher freq are better but recency smaller better\u001b[39;00m\n\u001b[0;32m     17\u001b[0m \u001b[38;5;28;01mdef\u001b[39;00m \u001b[38;5;21mr_score\u001b[39m(x):\n",
      "File \u001b[1;32m~\\Documents\\Test\\Projects\\Python\\DB\\dbtaipy\\Lib\\site-packages\\pandas\\core\\frame.py:11834\u001b[0m, in \u001b[0;36mDataFrame.quantile\u001b[1;34m(self, q, axis, numeric_only, interpolation, method)\u001b[0m\n\u001b[0;32m  11830\u001b[0m     \u001b[38;5;28;01mraise\u001b[39;00m \u001b[38;5;167;01mValueError\u001b[39;00m(\n\u001b[0;32m  11831\u001b[0m         \u001b[38;5;124mf\u001b[39m\u001b[38;5;124m\"\u001b[39m\u001b[38;5;124mInvalid method: \u001b[39m\u001b[38;5;132;01m{\u001b[39;00mmethod\u001b[38;5;132;01m}\u001b[39;00m\u001b[38;5;124m. Method must be in \u001b[39m\u001b[38;5;132;01m{\u001b[39;00mvalid_method\u001b[38;5;132;01m}\u001b[39;00m\u001b[38;5;124m.\u001b[39m\u001b[38;5;124m\"\u001b[39m\n\u001b[0;32m  11832\u001b[0m     )\n\u001b[0;32m  11833\u001b[0m \u001b[38;5;28;01mif\u001b[39;00m method \u001b[38;5;241m==\u001b[39m \u001b[38;5;124m\"\u001b[39m\u001b[38;5;124msingle\u001b[39m\u001b[38;5;124m\"\u001b[39m:\n\u001b[1;32m> 11834\u001b[0m     res \u001b[38;5;241m=\u001b[39m \u001b[43mdata\u001b[49m\u001b[38;5;241;43m.\u001b[39;49m\u001b[43m_mgr\u001b[49m\u001b[38;5;241;43m.\u001b[39;49m\u001b[43mquantile\u001b[49m\u001b[43m(\u001b[49m\u001b[43mqs\u001b[49m\u001b[38;5;241;43m=\u001b[39;49m\u001b[43mq\u001b[49m\u001b[43m,\u001b[49m\u001b[43m \u001b[49m\u001b[43minterpolation\u001b[49m\u001b[38;5;241;43m=\u001b[39;49m\u001b[43minterpolation\u001b[49m\u001b[43m)\u001b[49m\n\u001b[0;32m  11835\u001b[0m \u001b[38;5;28;01melif\u001b[39;00m method \u001b[38;5;241m==\u001b[39m \u001b[38;5;124m\"\u001b[39m\u001b[38;5;124mtable\u001b[39m\u001b[38;5;124m\"\u001b[39m:\n\u001b[0;32m  11836\u001b[0m     valid_interpolation \u001b[38;5;241m=\u001b[39m {\u001b[38;5;124m\"\u001b[39m\u001b[38;5;124mnearest\u001b[39m\u001b[38;5;124m\"\u001b[39m, \u001b[38;5;124m\"\u001b[39m\u001b[38;5;124mlower\u001b[39m\u001b[38;5;124m\"\u001b[39m, \u001b[38;5;124m\"\u001b[39m\u001b[38;5;124mhigher\u001b[39m\u001b[38;5;124m\"\u001b[39m}\n",
      "File \u001b[1;32m~\\Documents\\Test\\Projects\\Python\\DB\\dbtaipy\\Lib\\site-packages\\pandas\\core\\internals\\managers.py:1507\u001b[0m, in \u001b[0;36mBlockManager.quantile\u001b[1;34m(self, qs, interpolation)\u001b[0m\n\u001b[0;32m   1504\u001b[0m new_axes \u001b[38;5;241m=\u001b[39m \u001b[38;5;28mlist\u001b[39m(\u001b[38;5;28mself\u001b[39m\u001b[38;5;241m.\u001b[39maxes)\n\u001b[0;32m   1505\u001b[0m new_axes[\u001b[38;5;241m1\u001b[39m] \u001b[38;5;241m=\u001b[39m Index(qs, dtype\u001b[38;5;241m=\u001b[39mnp\u001b[38;5;241m.\u001b[39mfloat64)\n\u001b[1;32m-> 1507\u001b[0m blocks \u001b[38;5;241m=\u001b[39m \u001b[43m[\u001b[49m\n\u001b[0;32m   1508\u001b[0m \u001b[43m    \u001b[49m\u001b[43mblk\u001b[49m\u001b[38;5;241;43m.\u001b[39;49m\u001b[43mquantile\u001b[49m\u001b[43m(\u001b[49m\u001b[43mqs\u001b[49m\u001b[38;5;241;43m=\u001b[39;49m\u001b[43mqs\u001b[49m\u001b[43m,\u001b[49m\u001b[43m \u001b[49m\u001b[43minterpolation\u001b[49m\u001b[38;5;241;43m=\u001b[39;49m\u001b[43minterpolation\u001b[49m\u001b[43m)\u001b[49m\u001b[43m \u001b[49m\u001b[38;5;28;43;01mfor\u001b[39;49;00m\u001b[43m \u001b[49m\u001b[43mblk\u001b[49m\u001b[43m \u001b[49m\u001b[38;5;129;43;01min\u001b[39;49;00m\u001b[43m \u001b[49m\u001b[38;5;28;43mself\u001b[39;49m\u001b[38;5;241;43m.\u001b[39;49m\u001b[43mblocks\u001b[49m\n\u001b[0;32m   1509\u001b[0m \u001b[43m\u001b[49m\u001b[43m]\u001b[49m\n\u001b[0;32m   1511\u001b[0m \u001b[38;5;28;01mreturn\u001b[39;00m \u001b[38;5;28mtype\u001b[39m(\u001b[38;5;28mself\u001b[39m)(blocks, new_axes)\n",
      "File \u001b[1;32m~\\Documents\\Test\\Projects\\Python\\DB\\dbtaipy\\Lib\\site-packages\\pandas\\core\\internals\\managers.py:1508\u001b[0m, in \u001b[0;36m<listcomp>\u001b[1;34m(.0)\u001b[0m\n\u001b[0;32m   1504\u001b[0m new_axes \u001b[38;5;241m=\u001b[39m \u001b[38;5;28mlist\u001b[39m(\u001b[38;5;28mself\u001b[39m\u001b[38;5;241m.\u001b[39maxes)\n\u001b[0;32m   1505\u001b[0m new_axes[\u001b[38;5;241m1\u001b[39m] \u001b[38;5;241m=\u001b[39m Index(qs, dtype\u001b[38;5;241m=\u001b[39mnp\u001b[38;5;241m.\u001b[39mfloat64)\n\u001b[0;32m   1507\u001b[0m blocks \u001b[38;5;241m=\u001b[39m [\n\u001b[1;32m-> 1508\u001b[0m     \u001b[43mblk\u001b[49m\u001b[38;5;241;43m.\u001b[39;49m\u001b[43mquantile\u001b[49m\u001b[43m(\u001b[49m\u001b[43mqs\u001b[49m\u001b[38;5;241;43m=\u001b[39;49m\u001b[43mqs\u001b[49m\u001b[43m,\u001b[49m\u001b[43m \u001b[49m\u001b[43minterpolation\u001b[49m\u001b[38;5;241;43m=\u001b[39;49m\u001b[43minterpolation\u001b[49m\u001b[43m)\u001b[49m \u001b[38;5;28;01mfor\u001b[39;00m blk \u001b[38;5;129;01min\u001b[39;00m \u001b[38;5;28mself\u001b[39m\u001b[38;5;241m.\u001b[39mblocks\n\u001b[0;32m   1509\u001b[0m ]\n\u001b[0;32m   1511\u001b[0m \u001b[38;5;28;01mreturn\u001b[39;00m \u001b[38;5;28mtype\u001b[39m(\u001b[38;5;28mself\u001b[39m)(blocks, new_axes)\n",
      "File \u001b[1;32m~\\Documents\\Test\\Projects\\Python\\DB\\dbtaipy\\Lib\\site-packages\\pandas\\core\\internals\\blocks.py:1587\u001b[0m, in \u001b[0;36mBlock.quantile\u001b[1;34m(self, qs, interpolation)\u001b[0m\n\u001b[0;32m   1584\u001b[0m \u001b[38;5;28;01massert\u001b[39;00m \u001b[38;5;28mself\u001b[39m\u001b[38;5;241m.\u001b[39mndim \u001b[38;5;241m==\u001b[39m \u001b[38;5;241m2\u001b[39m\n\u001b[0;32m   1585\u001b[0m \u001b[38;5;28;01massert\u001b[39;00m is_list_like(qs)  \u001b[38;5;66;03m# caller is responsible for this\u001b[39;00m\n\u001b[1;32m-> 1587\u001b[0m result \u001b[38;5;241m=\u001b[39m \u001b[43mquantile_compat\u001b[49m\u001b[43m(\u001b[49m\u001b[38;5;28;43mself\u001b[39;49m\u001b[38;5;241;43m.\u001b[39;49m\u001b[43mvalues\u001b[49m\u001b[43m,\u001b[49m\u001b[43m \u001b[49m\u001b[43mnp\u001b[49m\u001b[38;5;241;43m.\u001b[39;49m\u001b[43masarray\u001b[49m\u001b[43m(\u001b[49m\u001b[43mqs\u001b[49m\u001b[38;5;241;43m.\u001b[39;49m\u001b[43m_values\u001b[49m\u001b[43m)\u001b[49m\u001b[43m,\u001b[49m\u001b[43m \u001b[49m\u001b[43minterpolation\u001b[49m\u001b[43m)\u001b[49m\n\u001b[0;32m   1588\u001b[0m \u001b[38;5;66;03m# ensure_block_shape needed for cases where we start with EA and result\u001b[39;00m\n\u001b[0;32m   1589\u001b[0m \u001b[38;5;66;03m#  is ndarray, e.g. IntegerArray, SparseArray\u001b[39;00m\n\u001b[0;32m   1590\u001b[0m result \u001b[38;5;241m=\u001b[39m ensure_block_shape(result, ndim\u001b[38;5;241m=\u001b[39m\u001b[38;5;241m2\u001b[39m)\n",
      "File \u001b[1;32m~\\Documents\\Test\\Projects\\Python\\DB\\dbtaipy\\Lib\\site-packages\\pandas\\core\\array_algos\\quantile.py:39\u001b[0m, in \u001b[0;36mquantile_compat\u001b[1;34m(values, qs, interpolation)\u001b[0m\n\u001b[0;32m     37\u001b[0m     fill_value \u001b[38;5;241m=\u001b[39m na_value_for_dtype(values\u001b[38;5;241m.\u001b[39mdtype, compat\u001b[38;5;241m=\u001b[39m\u001b[38;5;28;01mFalse\u001b[39;00m)\n\u001b[0;32m     38\u001b[0m     mask \u001b[38;5;241m=\u001b[39m isna(values)\n\u001b[1;32m---> 39\u001b[0m     \u001b[38;5;28;01mreturn\u001b[39;00m \u001b[43mquantile_with_mask\u001b[49m\u001b[43m(\u001b[49m\u001b[43mvalues\u001b[49m\u001b[43m,\u001b[49m\u001b[43m \u001b[49m\u001b[43mmask\u001b[49m\u001b[43m,\u001b[49m\u001b[43m \u001b[49m\u001b[43mfill_value\u001b[49m\u001b[43m,\u001b[49m\u001b[43m \u001b[49m\u001b[43mqs\u001b[49m\u001b[43m,\u001b[49m\u001b[43m \u001b[49m\u001b[43minterpolation\u001b[49m\u001b[43m)\u001b[49m\n\u001b[0;32m     40\u001b[0m \u001b[38;5;28;01melse\u001b[39;00m:\n\u001b[0;32m     41\u001b[0m     \u001b[38;5;28;01mreturn\u001b[39;00m values\u001b[38;5;241m.\u001b[39m_quantile(qs, interpolation)\n",
      "File \u001b[1;32m~\\Documents\\Test\\Projects\\Python\\DB\\dbtaipy\\Lib\\site-packages\\pandas\\core\\array_algos\\quantile.py:97\u001b[0m, in \u001b[0;36mquantile_with_mask\u001b[1;34m(values, mask, fill_value, qs, interpolation)\u001b[0m\n\u001b[0;32m     95\u001b[0m     result \u001b[38;5;241m=\u001b[39m np\u001b[38;5;241m.\u001b[39mrepeat(flat, \u001b[38;5;28mlen\u001b[39m(values))\u001b[38;5;241m.\u001b[39mreshape(\u001b[38;5;28mlen\u001b[39m(values), \u001b[38;5;28mlen\u001b[39m(qs))\n\u001b[0;32m     96\u001b[0m \u001b[38;5;28;01melse\u001b[39;00m:\n\u001b[1;32m---> 97\u001b[0m     result \u001b[38;5;241m=\u001b[39m \u001b[43m_nanpercentile\u001b[49m\u001b[43m(\u001b[49m\n\u001b[0;32m     98\u001b[0m \u001b[43m        \u001b[49m\u001b[43mvalues\u001b[49m\u001b[43m,\u001b[49m\n\u001b[0;32m     99\u001b[0m \u001b[43m        \u001b[49m\u001b[43mqs\u001b[49m\u001b[43m \u001b[49m\u001b[38;5;241;43m*\u001b[39;49m\u001b[43m \u001b[49m\u001b[38;5;241;43m100.0\u001b[39;49m\u001b[43m,\u001b[49m\n\u001b[0;32m    100\u001b[0m \u001b[43m        \u001b[49m\u001b[43mna_value\u001b[49m\u001b[38;5;241;43m=\u001b[39;49m\u001b[43mfill_value\u001b[49m\u001b[43m,\u001b[49m\n\u001b[0;32m    101\u001b[0m \u001b[43m        \u001b[49m\u001b[43mmask\u001b[49m\u001b[38;5;241;43m=\u001b[39;49m\u001b[43mmask\u001b[49m\u001b[43m,\u001b[49m\n\u001b[0;32m    102\u001b[0m \u001b[43m        \u001b[49m\u001b[43minterpolation\u001b[49m\u001b[38;5;241;43m=\u001b[39;49m\u001b[43minterpolation\u001b[49m\u001b[43m,\u001b[49m\n\u001b[0;32m    103\u001b[0m \u001b[43m    \u001b[49m\u001b[43m)\u001b[49m\n\u001b[0;32m    105\u001b[0m     result \u001b[38;5;241m=\u001b[39m np\u001b[38;5;241m.\u001b[39marray(result, copy\u001b[38;5;241m=\u001b[39m\u001b[38;5;28;01mFalse\u001b[39;00m)\n\u001b[0;32m    106\u001b[0m     result \u001b[38;5;241m=\u001b[39m result\u001b[38;5;241m.\u001b[39mT\n",
      "File \u001b[1;32m~\\Documents\\Test\\Projects\\Python\\DB\\dbtaipy\\Lib\\site-packages\\pandas\\core\\array_algos\\quantile.py:218\u001b[0m, in \u001b[0;36m_nanpercentile\u001b[1;34m(values, qs, na_value, mask, interpolation)\u001b[0m\n\u001b[0;32m    216\u001b[0m     \u001b[38;5;28;01mreturn\u001b[39;00m result\n\u001b[0;32m    217\u001b[0m \u001b[38;5;28;01melse\u001b[39;00m:\n\u001b[1;32m--> 218\u001b[0m     \u001b[38;5;28;01mreturn\u001b[39;00m \u001b[43mnp\u001b[49m\u001b[38;5;241;43m.\u001b[39;49m\u001b[43mpercentile\u001b[49m\u001b[43m(\u001b[49m\n\u001b[0;32m    219\u001b[0m \u001b[43m        \u001b[49m\u001b[43mvalues\u001b[49m\u001b[43m,\u001b[49m\n\u001b[0;32m    220\u001b[0m \u001b[43m        \u001b[49m\u001b[43mqs\u001b[49m\u001b[43m,\u001b[49m\n\u001b[0;32m    221\u001b[0m \u001b[43m        \u001b[49m\u001b[43maxis\u001b[49m\u001b[38;5;241;43m=\u001b[39;49m\u001b[38;5;241;43m1\u001b[39;49m\u001b[43m,\u001b[49m\n\u001b[0;32m    222\u001b[0m \u001b[43m        \u001b[49m\u001b[38;5;66;43;03m# error: No overload variant of \"percentile\" matches argument types\u001b[39;49;00m\n\u001b[0;32m    223\u001b[0m \u001b[43m        \u001b[49m\u001b[38;5;66;43;03m# \"ndarray[Any, Any]\", \"ndarray[Any, dtype[floating[_64Bit]]]\",\u001b[39;49;00m\n\u001b[0;32m    224\u001b[0m \u001b[43m        \u001b[49m\u001b[38;5;66;43;03m# \"int\", \"Dict[str, str]\"  [call-overload]\u001b[39;49;00m\n\u001b[0;32m    225\u001b[0m \u001b[43m        \u001b[49m\u001b[43mmethod\u001b[49m\u001b[38;5;241;43m=\u001b[39;49m\u001b[43minterpolation\u001b[49m\u001b[43m,\u001b[49m\u001b[43m  \u001b[49m\u001b[38;5;66;43;03m# type: ignore[call-overload]\u001b[39;49;00m\n\u001b[0;32m    226\u001b[0m \u001b[43m    \u001b[49m\u001b[43m)\u001b[49m\n",
      "File \u001b[1;32m~\\Documents\\Test\\Projects\\Python\\DB\\dbtaipy\\Lib\\site-packages\\numpy\\lib\\function_base.py:4283\u001b[0m, in \u001b[0;36mpercentile\u001b[1;34m(a, q, axis, out, overwrite_input, method, keepdims, interpolation)\u001b[0m\n\u001b[0;32m   4281\u001b[0m \u001b[38;5;28;01mif\u001b[39;00m \u001b[38;5;129;01mnot\u001b[39;00m _quantile_is_valid(q):\n\u001b[0;32m   4282\u001b[0m     \u001b[38;5;28;01mraise\u001b[39;00m \u001b[38;5;167;01mValueError\u001b[39;00m(\u001b[38;5;124m\"\u001b[39m\u001b[38;5;124mPercentiles must be in the range [0, 100]\u001b[39m\u001b[38;5;124m\"\u001b[39m)\n\u001b[1;32m-> 4283\u001b[0m \u001b[38;5;28;01mreturn\u001b[39;00m \u001b[43m_quantile_unchecked\u001b[49m\u001b[43m(\u001b[49m\n\u001b[0;32m   4284\u001b[0m \u001b[43m    \u001b[49m\u001b[43ma\u001b[49m\u001b[43m,\u001b[49m\u001b[43m \u001b[49m\u001b[43mq\u001b[49m\u001b[43m,\u001b[49m\u001b[43m \u001b[49m\u001b[43maxis\u001b[49m\u001b[43m,\u001b[49m\u001b[43m \u001b[49m\u001b[43mout\u001b[49m\u001b[43m,\u001b[49m\u001b[43m \u001b[49m\u001b[43moverwrite_input\u001b[49m\u001b[43m,\u001b[49m\u001b[43m \u001b[49m\u001b[43mmethod\u001b[49m\u001b[43m,\u001b[49m\u001b[43m \u001b[49m\u001b[43mkeepdims\u001b[49m\u001b[43m)\u001b[49m\n",
      "File \u001b[1;32m~\\Documents\\Test\\Projects\\Python\\DB\\dbtaipy\\Lib\\site-packages\\numpy\\lib\\function_base.py:4555\u001b[0m, in \u001b[0;36m_quantile_unchecked\u001b[1;34m(a, q, axis, out, overwrite_input, method, keepdims)\u001b[0m\n\u001b[0;32m   4547\u001b[0m \u001b[38;5;28;01mdef\u001b[39;00m \u001b[38;5;21m_quantile_unchecked\u001b[39m(a,\n\u001b[0;32m   4548\u001b[0m                         q,\n\u001b[0;32m   4549\u001b[0m                         axis\u001b[38;5;241m=\u001b[39m\u001b[38;5;28;01mNone\u001b[39;00m,\n\u001b[1;32m   (...)\u001b[0m\n\u001b[0;32m   4552\u001b[0m                         method\u001b[38;5;241m=\u001b[39m\u001b[38;5;124m\"\u001b[39m\u001b[38;5;124mlinear\u001b[39m\u001b[38;5;124m\"\u001b[39m,\n\u001b[0;32m   4553\u001b[0m                         keepdims\u001b[38;5;241m=\u001b[39m\u001b[38;5;28;01mFalse\u001b[39;00m):\n\u001b[0;32m   4554\u001b[0m \u001b[38;5;250m    \u001b[39m\u001b[38;5;124;03m\"\"\"Assumes that q is in [0, 1], and is an ndarray\"\"\"\u001b[39;00m\n\u001b[1;32m-> 4555\u001b[0m     \u001b[38;5;28;01mreturn\u001b[39;00m \u001b[43m_ureduce\u001b[49m\u001b[43m(\u001b[49m\u001b[43ma\u001b[49m\u001b[43m,\u001b[49m\n\u001b[0;32m   4556\u001b[0m \u001b[43m                    \u001b[49m\u001b[43mfunc\u001b[49m\u001b[38;5;241;43m=\u001b[39;49m\u001b[43m_quantile_ureduce_func\u001b[49m\u001b[43m,\u001b[49m\n\u001b[0;32m   4557\u001b[0m \u001b[43m                    \u001b[49m\u001b[43mq\u001b[49m\u001b[38;5;241;43m=\u001b[39;49m\u001b[43mq\u001b[49m\u001b[43m,\u001b[49m\n\u001b[0;32m   4558\u001b[0m \u001b[43m                    \u001b[49m\u001b[43mkeepdims\u001b[49m\u001b[38;5;241;43m=\u001b[39;49m\u001b[43mkeepdims\u001b[49m\u001b[43m,\u001b[49m\n\u001b[0;32m   4559\u001b[0m \u001b[43m                    \u001b[49m\u001b[43maxis\u001b[49m\u001b[38;5;241;43m=\u001b[39;49m\u001b[43maxis\u001b[49m\u001b[43m,\u001b[49m\n\u001b[0;32m   4560\u001b[0m \u001b[43m                    \u001b[49m\u001b[43mout\u001b[49m\u001b[38;5;241;43m=\u001b[39;49m\u001b[43mout\u001b[49m\u001b[43m,\u001b[49m\n\u001b[0;32m   4561\u001b[0m \u001b[43m                    \u001b[49m\u001b[43moverwrite_input\u001b[49m\u001b[38;5;241;43m=\u001b[39;49m\u001b[43moverwrite_input\u001b[49m\u001b[43m,\u001b[49m\n\u001b[0;32m   4562\u001b[0m \u001b[43m                    \u001b[49m\u001b[43mmethod\u001b[49m\u001b[38;5;241;43m=\u001b[39;49m\u001b[43mmethod\u001b[49m\u001b[43m)\u001b[49m\n",
      "File \u001b[1;32m~\\Documents\\Test\\Projects\\Python\\DB\\dbtaipy\\Lib\\site-packages\\numpy\\lib\\function_base.py:3823\u001b[0m, in \u001b[0;36m_ureduce\u001b[1;34m(a, func, keepdims, **kwargs)\u001b[0m\n\u001b[0;32m   3820\u001b[0m             index_out \u001b[38;5;241m=\u001b[39m (\u001b[38;5;241m0\u001b[39m, ) \u001b[38;5;241m*\u001b[39m nd\n\u001b[0;32m   3821\u001b[0m             kwargs[\u001b[38;5;124m'\u001b[39m\u001b[38;5;124mout\u001b[39m\u001b[38;5;124m'\u001b[39m] \u001b[38;5;241m=\u001b[39m out[(\u001b[38;5;28mEllipsis\u001b[39m, ) \u001b[38;5;241m+\u001b[39m index_out]\n\u001b[1;32m-> 3823\u001b[0m r \u001b[38;5;241m=\u001b[39m \u001b[43mfunc\u001b[49m\u001b[43m(\u001b[49m\u001b[43ma\u001b[49m\u001b[43m,\u001b[49m\u001b[43m \u001b[49m\u001b[38;5;241;43m*\u001b[39;49m\u001b[38;5;241;43m*\u001b[39;49m\u001b[43mkwargs\u001b[49m\u001b[43m)\u001b[49m\n\u001b[0;32m   3825\u001b[0m \u001b[38;5;28;01mif\u001b[39;00m out \u001b[38;5;129;01mis\u001b[39;00m \u001b[38;5;129;01mnot\u001b[39;00m \u001b[38;5;28;01mNone\u001b[39;00m:\n\u001b[0;32m   3826\u001b[0m     \u001b[38;5;28;01mreturn\u001b[39;00m out\n",
      "File \u001b[1;32m~\\Documents\\Test\\Projects\\Python\\DB\\dbtaipy\\Lib\\site-packages\\numpy\\lib\\function_base.py:4721\u001b[0m, in \u001b[0;36m_quantile_ureduce_func\u001b[1;34m(a, q, axis, out, overwrite_input, method)\u001b[0m\n\u001b[0;32m   4719\u001b[0m     \u001b[38;5;28;01melse\u001b[39;00m:\n\u001b[0;32m   4720\u001b[0m         arr \u001b[38;5;241m=\u001b[39m a\u001b[38;5;241m.\u001b[39mcopy()\n\u001b[1;32m-> 4721\u001b[0m result \u001b[38;5;241m=\u001b[39m \u001b[43m_quantile\u001b[49m\u001b[43m(\u001b[49m\u001b[43marr\u001b[49m\u001b[43m,\u001b[49m\n\u001b[0;32m   4722\u001b[0m \u001b[43m                   \u001b[49m\u001b[43mquantiles\u001b[49m\u001b[38;5;241;43m=\u001b[39;49m\u001b[43mq\u001b[49m\u001b[43m,\u001b[49m\n\u001b[0;32m   4723\u001b[0m \u001b[43m                   \u001b[49m\u001b[43maxis\u001b[49m\u001b[38;5;241;43m=\u001b[39;49m\u001b[43maxis\u001b[49m\u001b[43m,\u001b[49m\n\u001b[0;32m   4724\u001b[0m \u001b[43m                   \u001b[49m\u001b[43mmethod\u001b[49m\u001b[38;5;241;43m=\u001b[39;49m\u001b[43mmethod\u001b[49m\u001b[43m,\u001b[49m\n\u001b[0;32m   4725\u001b[0m \u001b[43m                   \u001b[49m\u001b[43mout\u001b[49m\u001b[38;5;241;43m=\u001b[39;49m\u001b[43mout\u001b[49m\u001b[43m)\u001b[49m\n\u001b[0;32m   4726\u001b[0m \u001b[38;5;28;01mreturn\u001b[39;00m result\n",
      "File \u001b[1;32m~\\Documents\\Test\\Projects\\Python\\DB\\dbtaipy\\Lib\\site-packages\\numpy\\lib\\function_base.py:4823\u001b[0m, in \u001b[0;36m_quantile\u001b[1;34m(arr, quantiles, axis, method, out)\u001b[0m\n\u001b[0;32m   4819\u001b[0m previous_indexes, next_indexes \u001b[38;5;241m=\u001b[39m _get_indexes(arr,\n\u001b[0;32m   4820\u001b[0m                                               virtual_indexes,\n\u001b[0;32m   4821\u001b[0m                                               values_count)\n\u001b[0;32m   4822\u001b[0m \u001b[38;5;66;03m# --- Sorting\u001b[39;00m\n\u001b[1;32m-> 4823\u001b[0m \u001b[43marr\u001b[49m\u001b[38;5;241;43m.\u001b[39;49m\u001b[43mpartition\u001b[49m\u001b[43m(\u001b[49m\n\u001b[0;32m   4824\u001b[0m \u001b[43m    \u001b[49m\u001b[43mnp\u001b[49m\u001b[38;5;241;43m.\u001b[39;49m\u001b[43munique\u001b[49m\u001b[43m(\u001b[49m\u001b[43mnp\u001b[49m\u001b[38;5;241;43m.\u001b[39;49m\u001b[43mconcatenate\u001b[49m\u001b[43m(\u001b[49m\u001b[43m(\u001b[49m\u001b[43m[\u001b[49m\u001b[38;5;241;43m0\u001b[39;49m\u001b[43m,\u001b[49m\u001b[43m \u001b[49m\u001b[38;5;241;43m-\u001b[39;49m\u001b[38;5;241;43m1\u001b[39;49m\u001b[43m]\u001b[49m\u001b[43m,\u001b[49m\n\u001b[0;32m   4825\u001b[0m \u001b[43m                              \u001b[49m\u001b[43mprevious_indexes\u001b[49m\u001b[38;5;241;43m.\u001b[39;49m\u001b[43mravel\u001b[49m\u001b[43m(\u001b[49m\u001b[43m)\u001b[49m\u001b[43m,\u001b[49m\n\u001b[0;32m   4826\u001b[0m \u001b[43m                              \u001b[49m\u001b[43mnext_indexes\u001b[49m\u001b[38;5;241;43m.\u001b[39;49m\u001b[43mravel\u001b[49m\u001b[43m(\u001b[49m\u001b[43m)\u001b[49m\u001b[43m,\u001b[49m\n\u001b[0;32m   4827\u001b[0m \u001b[43m                              \u001b[49m\u001b[43m)\u001b[49m\u001b[43m)\u001b[49m\u001b[43m)\u001b[49m\u001b[43m,\u001b[49m\n\u001b[0;32m   4828\u001b[0m \u001b[43m    \u001b[49m\u001b[43maxis\u001b[49m\u001b[38;5;241;43m=\u001b[39;49m\u001b[38;5;241;43m0\u001b[39;49m\u001b[43m)\u001b[49m\n\u001b[0;32m   4829\u001b[0m \u001b[38;5;28;01mif\u001b[39;00m supports_nans:\n\u001b[0;32m   4830\u001b[0m     slices_having_nans \u001b[38;5;241m=\u001b[39m np\u001b[38;5;241m.\u001b[39misnan(arr[\u001b[38;5;241m-\u001b[39m\u001b[38;5;241m1\u001b[39m, \u001b[38;5;241m.\u001b[39m\u001b[38;5;241m.\u001b[39m\u001b[38;5;241m.\u001b[39m])\n",
      "\u001b[1;31mTypeError\u001b[0m: '<' not supported between instances of 'int' and 'str'"
     ]
    }
   ],
   "source": [
    "# segment_map = client_segment_map(selected_cust_rfm)"
   ]
  },
  {
   "cell_type": "markdown",
   "id": "c2c4145d-73d0-478e-90ed-7ce72c9d1d49",
   "metadata": {},
   "source": [
    "#### Page - markdown"
   ]
  },
  {
   "cell_type": "code",
   "execution_count": 33,
   "id": "18100bfd-23e4-4d91-a641-0549165da872",
   "metadata": {},
   "outputs": [],
   "source": [
    "# dv_graph_selector = ['Sales Dashboard','Client Segmentation','Cohort Analysis']\n",
    "# dv_graph_selected = dv_graph_selector[0]"
   ]
  },
  {
   "cell_type": "code",
   "execution_count": 34,
   "id": "e000757c-b174-4b00-9ffd-fdfcd9ab8f01",
   "metadata": {},
   "outputs": [],
   "source": [
    "# Root page - page shared by everyone\n",
    "root_md = \"\"\"\n",
    "<center><h2> Rock **KYC** </h2></center> \n",
    "<|Refresh Airtable|button|on_action=refresh_table|>\n",
    "--------------------------------------------------------------------\n",
    "<center><|navbar|></center>\n",
    "\"\"\""
   ]
  },
  {
   "cell_type": "code",
   "execution_count": 35,
   "id": "a8255742-71ed-4551-a97f-2c8e82cff359",
   "metadata": {},
   "outputs": [],
   "source": [
    "# layout : each row is a part \n",
    "# inside the row j ai des columns inside the layout"
   ]
  },
  {
   "cell_type": "code",
   "execution_count": 36,
   "id": "47b67f8c-a750-45f9-a5d9-e89b9abe4680",
   "metadata": {},
   "outputs": [],
   "source": [
    "# Sales dashboard page\n",
    "sales_dashboard_md = \"\"\"\n",
    "<h4> Sales Dashboard (CNY) </h4>\n",
    "\n",
    "<|layout|columns=1 1|\n",
    "<|{sales_sum}|chart|mode=lines|x=Month|y[1]=Total_Sales|y[2]=Balance_Due|line[2]=dash|color[1]=blue|>\n",
    "\n",
    "<|{project_summary}|chart|type=bar|x=Name (from Customer)|y=Margin|layout={layout}>\n",
    "|>\n",
    "\n",
    "<|project_summary|expandable|\n",
    "<|{project_summary}|table|>\n",
    "|>\n",
    "\n",
    "---------------------\n",
    "\n",
    "<|layout|columns=1 1 1|\n",
    "Select Month <|{selected_cust}|selector|lov={cust_lov}|dropdown|on_change=update_table|>  \n",
    "\n",
    "Customer <|{selected_month}|selector|lov={month_lov}|dropdown|on_change=update_table|> \n",
    "\n",
    "Rep  <|{selected_rep}|selector|lov={rep_lov}|dropdown|on_change=update_table|>\n",
    "\n",
    "|>\n",
    "\n",
    "For month <|{selected_month}|>   Total Orders =  <|{sales_on_month}|> Total Balance due <|{balance_on_month}|>\n",
    "\n",
    "<|layout|columns=1 1|\n",
    "<|{project_details}|table|show_all|> \n",
    "\n",
    "<|{gantt_rep}|table|show_all|>\n",
    "|>\n",
    "\"\"\""
   ]
  },
  {
   "cell_type": "code",
   "execution_count": 37,
   "id": "6c69098f-473b-48b3-9e23-019e63293743",
   "metadata": {},
   "outputs": [],
   "source": [
    "# Client segmentation page\n",
    "client_segmentation_md = \"\"\"\n",
    "<h4> Client segmentation by behaviour & transaction </h4>\n",
    "\n",
    "<|layout|columns = 1 5|\n",
    "<h6>Search for a client (enter name):  </h6>\n",
    "<|{selected_cust_rfm}|selector|lov={cust_lov}|dropdown|on_change=update_table|>\n",
    "<|{segment_map}|table|show_all|>\n",
    "\n",
    "|>\n",
    "\"\"\"\n"
   ]
  },
  {
   "cell_type": "code",
   "execution_count": 38,
   "id": "01522fa6-b7eb-43e8-b670-646bbe290094",
   "metadata": {},
   "outputs": [],
   "source": [
    "# Cohort analysis page\n",
    "cohort_analysis_md = \"\"\"\n",
    "<h4> Client cohort (behaviour evolution) analysis  </h4>\n",
    "\"\"\"\n"
   ]
  },
  {
   "cell_type": "code",
   "execution_count": 39,
   "id": "81db325b-0df5-4b53-8ba7-530a60c6f318",
   "metadata": {},
   "outputs": [],
   "source": [
    "def refresh_table(state):\n",
    "    state.fetch_airtable = clean_fetched()\n",
    "    state.sales_df = sales_per_month()\n",
    "    state.contributors = project_summary()\n",
    "    state.month_lov = month_df()\n",
    "    state.cust_lov = customer_df()\n",
    "    state.selected_month = state.month_lov[0]\n",
    "    state.selected_cust = state.cust_lov[0]\n",
    "    state.selected_rep = state.rep_lov[0]\n",
    "    state.project_details = fetch_project_details(state.selected_month, state.selected_cust)\n",
    "    state.gantt_rep = gantt_df(state.selected_month, state.selected_rep)\n",
    "    state.segment_map = client_segment_map(state.selected_cust)\n"
   ]
  },
  {
   "cell_type": "code",
   "execution_count": 40,
   "id": "a8a4675e-69e1-40e5-9ac3-1d9b83128e1f",
   "metadata": {},
   "outputs": [],
   "source": [
    "def update_table(state):\n",
    "    state.project_details = fetch_project_details(state.selected_month, state.selected_cust)\n",
    "    state.gantt_rep = gantt_df(state.selected_month, state.selected_rep)\n",
    "    state.segment_map = client_segment_map(state.selected_cust_rfm)"
   ]
  },
  {
   "cell_type": "code",
   "execution_count": null,
   "id": "9642c929-929b-4a2a-8dad-6d5f1ad88351",
   "metadata": {},
   "outputs": [],
   "source": []
  },
  {
   "cell_type": "code",
   "execution_count": 41,
   "id": "4d4902cf-5e4f-443c-84bb-8d2c1f5cc664",
   "metadata": {},
   "outputs": [],
   "source": [
    "# Putting pages in a dict\n",
    "pages = {\n",
    "    '/': root_md,\n",
    "    'Sales-Dashboard': sales_dashboard_md,\n",
    "    'Client-Segmentation': client_segmentation_md,\n",
    "    'Cohort-Analysis': cohort_analysis_md\n",
    "}\n"
   ]
  },
  {
   "cell_type": "code",
   "execution_count": 42,
   "id": "0fda541b-5897-4652-8a89-59e92e802afd",
   "metadata": {},
   "outputs": [
    {
     "name": "stdout",
     "output_type": "stream",
     "text": [
      "[2023-10-20 11:27:54][Taipy][INFO] Running in 'single_client' mode in notebook environment\n",
      "[2023-10-20 11:27:56][Taipy][INFO]  * Server starting on http://127.0.0.1:5000\n"
     ]
    },
    {
     "name": "stderr",
     "output_type": "stream",
     "text": [
      "UserWarning: libuv only supports millisecond timer resolution; all times less will be set to 1 ms\n",
      "WARNING:root:\u001b[1;31m\n",
      "--- 2 warning(s) were found for page 'Sales-Dashboard' in variable 'sales_dashboard_md' ---\n",
      " - Warning 1: Invalid tag name 'chart' in line 7.\n",
      " - Warning 2: Exception in JSONEncoder:\n",
      "Object of type Series is not JSON serializable\n",
      "--------------------------------------------------------------------------------------------\u001b[0m\n",
      "\n"
     ]
    }
   ],
   "source": [
    "# Run Taipy GUI\n",
    "gui = Gui(pages=pages)\n",
    "gui.run(dark_mode=False)\n",
    "     "
   ]
  },
  {
   "cell_type": "code",
   "execution_count": null,
   "id": "9497b0c6-3540-470d-b6a8-87460ece8893",
   "metadata": {},
   "outputs": [],
   "source": []
  },
  {
   "cell_type": "code",
   "execution_count": null,
   "id": "c950e149-1a61-49e9-b5da-c3e7d571647d",
   "metadata": {},
   "outputs": [],
   "source": []
  }
 ],
 "metadata": {
  "kernelspec": {
   "display_name": "Python 3 (ipykernel)",
   "language": "python",
   "name": "python3"
  },
  "language_info": {
   "codemirror_mode": {
    "name": "ipython",
    "version": 3
   },
   "file_extension": ".py",
   "mimetype": "text/x-python",
   "name": "python",
   "nbconvert_exporter": "python",
   "pygments_lexer": "ipython3",
   "version": "3.11.6"
  }
 },
 "nbformat": 4,
 "nbformat_minor": 5
}
